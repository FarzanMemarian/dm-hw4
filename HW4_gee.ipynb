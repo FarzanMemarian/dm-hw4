{
 "cells": [
  {
   "cell_type": "markdown",
   "metadata": {},
   "source": [
    "# EE 380L: Data Mining\n",
    "## Assignment 4\n",
    "\n",
    "Due: Mar 28 at 11:59 pm  \n",
    "Total points: 50\n",
    "\n",
    "You may work in pairs. Only one student per pair needs to submit the assignment on Canvas, but you should include names and UTEIDs for both students."
   ]
  },
  {
   "cell_type": "markdown",
   "metadata": {},
   "source": [
    "# Question 1: Decision Tree using Python (7 pts)\n",
    "In this problem, you will model the data using decision trees to perform a classification task. Load the BreastTissue.csv dataset in Q1 folder. The dataset has been preprocessed. The description of the dataset can be found [here](https://archive.ics.uci.edu/ml/datasets/Breast+Tissue). Using the class tree.DecisionTreeClassifier (http://scikit-learn.org/stable/modules/classes.html#module-sklearn.tree), build two different trees with a maximum depth of two using the split criteria (i) Gini and (ii) Entropy. Use entire data to build trees. Plot the two trees. If your classifier object is called clf, use the following commands to save the generated tree as a '.dot' file that can be used to visualize the tree using Webgraphviz: http://www.webgraphviz.com/\n",
    "\n",
    "Hint: see  http://scikit-learn.org/stable/modules/generated/sklearn.tree.export_graphviz.html"
   ]
  },
  {
   "cell_type": "raw",
   "metadata": {},
   "source": [
    "from sklearn import tree\n",
    "from sklearn.externals.six import StringIO\n",
    "with open(\"decision_tree_gini.dot\", 'w') as f:\n",
    "    f = tree.export_graphviz(clf, out_file=f)"
   ]
  },
  {
   "cell_type": "markdown",
   "metadata": {},
   "source": [
    "Copy paste the contents of your '.dot' file into the text window on the website to visualize the trees. At which node(s) do they differ?"
   ]
  },
  {
   "cell_type": "code",
   "execution_count": 6,
   "metadata": {
    "collapsed": false
   },
   "outputs": [],
   "source": [
    "from sklearn import tree\n",
    "from sklearn.externals.six import StringIO\n",
    "import numpy as np\n",
    "import pandas as pd\n",
    "\n",
    "filename = 'Q1/BreastTissue.csv'\n",
    "names = ['Case #','Class','I0','PA500','HFS','DA','Area','A/DA','Max IP','DR','P']\n",
    "data = pd.read_csv(filename, names=names)\n",
    "X = data.ix[1:,'I0':]\n",
    "Y = data.ix[1:, 'Class']\n",
    "\n",
    "gini_clf = tree.DecisionTreeClassifier(criterion='gini', max_depth=2)\n",
    "gini_clf = gini_clf.fit(X.as_matrix(), Y.as_matrix())    \n",
    "\n",
    "with open(\"decision_tree_gini.dot\", 'w') as f:\n",
    "    f = tree.export_graphviz(gini_clf, out_file=f)\n",
    "\n",
    "en_clf = tree.DecisionTreeClassifier(criterion='entropy', max_depth=2)\n",
    "en_clf = en_clf.fit(X.as_matrix(), Y.as_matrix())    \n",
    "\n",
    "with open(\"decision_tree_entropy.dot\", 'w') as f:\n",
    "    f = tree.export_graphviz(en_clf, out_file=f)"
   ]
  },
  {
   "cell_type": "markdown",
   "metadata": {},
   "source": [
    "![title](gini.png)\n",
    "-----------------------\n",
    "![title](entropy.png)"
   ]
  },
  {
   "cell_type": "markdown",
   "metadata": {},
   "source": [
    "# Question 2: Bayesian Networks (10 pts)\n",
    "In the Bayesian Network shown below, the nodes represent the following random variables: S stands for \"Smoking\", LC for \"Lung Cancer\", B for \"Bronchitis\", T for \"Tuberculosis\", D for \"Dyspnea\". The necessary conditional probabilities are provided alongside. "
   ]
  },
  {
   "cell_type": "code",
   "execution_count": 8,
   "metadata": {
    "collapsed": false
   },
   "outputs": [
    {
     "data": {
      "image/png": "[encoded data removed]",
      "text/plain": [
       "<IPython.core.display.Image object>"
      ]
     },
     "execution_count": 8,
     "metadata": {},
     "output_type": "execute_result"
    }
   ],
   "source": [
    "from IPython.display import Image\n",
    "Image(filename='BayesianNetworks.png')"
   ]
  },
  {
   "cell_type": "markdown",
   "metadata": {},
   "source": [
    "$$Pr(S = yes) = 0.1$$\n",
    "$$Pr(LC = yes | S = yes) = 0.03$$\n",
    "$$Pr(LC = yes | S = no) = 0.01$$\n",
    "$$Pr(B = yes | S = yes) = 0.06$$\n",
    "$$Pr(B = yes | S = no) = 0.02$$\n",
    "$$Pr(T = yes | LC = yes, B = yes) = 0.8$$\n",
    "$$Pr(T = yes | LC = yes, B = no) = 0.5$$\n",
    "$$Pr(T = yes | LC = no, B = yes) = 0.1$$\n",
    "$$Pr(T = yes | LC = no, B = no) = 0.04$$\n",
    "$$Pr(D = yes | T = yes, B = yes) = 0.9$$\n",
    "$$Pr(D = yes | T = yes, B = no) = 0.7$$\n",
    "$$Pr(D = yes | T = no, B = yes) = 0.65$$\n",
    "$$Pr(D = yes | T = no, B = no) = 0.015$$"
   ]
  },
  {
   "cell_type": "markdown",
   "metadata": {},
   "source": [
    "Compute the following probabilities:\n",
    "\n",
    "(a) (2 pts) $Pr(D = yes)$"
   ]
  },
  {
   "cell_type": "markdown",
   "metadata": {},
   "source": [
    "$ Pr(D = yes)$\n",
    "  \n",
    "$ =  Pr(D = yes | T = yes, B = yes)*Pr(T=yes, B=yes) + Pr(D = yes | T = yes, B = no)*Pr(T=yes, B=no) + $\n",
    "$ \\qquad Pr(D = yes | T = no, B = yes)*Pr(T=no, B=yes) + Pr(D = yes | T = no, B = no)*Pr(T=no, B=no) $\n",
    "\n",
    "$ =  Pr(D = yes | T = yes, B = yes)*Pr(T=yes|B=yes)*Pr(B=yes)+ Pr(D = yes | T = yes, B = no)*Pr(T=yes|B=no)*Pr(B=no) + $\n",
    "$ \\qquad Pr(D = yes | T = no, B = yes)Pr(T=no|B=yes)*Pr(B=yes) + Pr(D = yes | T = no, B = no)*Pr(T=no|B=no)*Pr(B=no) $\n",
    "\n",
    "Note P(B=yes) = $\\sum_{s}$ Pr(B=yes|S=s) = \n",
    "\n",
    "$ =  Pr(D = yes | T = yes, B = yes)*P(T=yes|B=yes)*P(B=yes)+ Pr(D = yes | T = yes, B = no)*P(T=yes|B=no)*P(B=no) + $\n",
    "$ \\qquad Pr(D = yes | T = no, B = yes)P(T=no|B=yes)*P(B=yes) + Pr(D = yes | T = no, B = no)*P(T=no|B=no)*P(B=no) $\n",
    "\n",
    "$ =  0.9*((.8+.1)*.08)+ 0.7*((.5+.04)*.92) + 0.65*((.1)*.08) + 0.015*((.46)*.92) $\n",
    "\n",
    "$ = 0.424 $"
   ]
  },
  {
   "cell_type": "markdown",
   "metadata": {},
   "source": [
    "(b) (2 pts) $Pr(LC = no, B = yes, D = yes)$"
   ]
  },
  {
   "cell_type": "markdown",
   "metadata": {},
   "source": [
    "$Pr(LC = no, B = yes, D = yes) $\n",
    "\n",
    "$ = Pr(T = yes | LC = no, B = yes) * Pr(D = yes | T = yes, B = yes) $\n",
    "\n",
    "$ = 0.1 * 0.9 $\n",
    "\n",
    "$ = 0.09 $\n"
   ]
  },
  {
   "cell_type": "markdown",
   "metadata": {},
   "source": [
    "(c) (3 pts) Given that a person has Bronchitis (B = yes) and no Lung Cancer (LC = no), the probability he will has symptoms of Dyspnea (D = yes)."
   ]
  },
  {
   "cell_type": "markdown",
   "metadata": {},
   "source": [
    "$ Pr(D = yes | B = yes, LC = no)$\n",
    "\n",
    "$ = \\sum_{t} P(B = yes, LC = no, T = t, D = yes) / P(B = yes, LC = no) $\n",
    "\n",
    "$ = \\sum_{t} P(T = t) * P(D = yes) * P(B = yes, LC = no | T = t) / P(B = yes, LC = no) $\n",
    "\n",
    "$ = \\sum_{t} P(T = t) * P(D = yes) $\n",
    "\n",
    "$ =  Pr(D = yes | T = yes, B = yes) * Pr(T = yes | LC = no, B = yes) + Pr(D = yes | T = no, B = yes) * Pr(T = no | LC = no, B = yes)$\n",
    "\n",
    "$ = 0.9 * 0.1 + 0.65 * (1 - 0.1)$\n",
    "\n",
    "$ = .675$"
   ]
  },
  {
   "cell_type": "markdown",
   "metadata": {},
   "source": [
    "(d) (3 pts) Given that a person is a smoker (S = yes), the probability he will get infected with Tuberculosis (T = yes)."
   ]
  },
  {
   "cell_type": "markdown",
   "metadata": {},
   "source": [
    "$ Pr(T = yes | S = yes)$\n",
    "\n",
    "$ = \\sum_{lc, b} P(B = b, LC = lc, T = yes, S = yes) / P(S = yes) $\n",
    "\n",
    "$ = \\sum_{lc, b} P(B = b) * P(LC = lc) * P(T = yes) * P(S = yes | B, LC, T) / P(S = yes) $\n",
    "\n",
    "$ = \\sum_{lc, b} P(B = b) * P(LC = lc) * P(T = yes) $\n",
    "\n",
    "$ = Pr(T = yes | LC = yes, B = yes)*Pr(LC = yes, B = yes) + Pr(T = yes | LC = yes, B = no)*Pr(LC = yes, B = no) + $\n",
    "$ \\qquad Pr(T = yes | LC = no, B = yes)*Pr(LC = no, B = yes) + Pr(T = yes | LC = no, B = no)*Pr(LC = no, B = no) $\n",
    "\n",
    "$ = Pr(T = yes | LC = yes, B = yes)*Pr(LC = yes, B = yes) + Pr(T = yes | LC = yes, B = no)*Pr(LC = yes, B = no) + $ \n",
    "$ \\qquad Pr(T = yes | LC = no, B = yes)*Pr(LC = no, B = yes) + Pr(T = yes | LC = no, B = no)*Pr(LC = no, B = no) $\n",
    "\n",
    "Since LC and B are independent, Pr(LC , B) = Pr(LC)\\*Pr(B). P(LC = yes) = 0.04, P(B) = 0.08. Thus, \n",
    "\n",
    "$ = Pr(T = yes | LC = yes, B = yes)*Pr(LC = yes)*Pr(B = yes) + Pr(T = yes | LC = yes, B = no)*Pr(LC = yes)*Pr(B = no)+ $\n",
    "$ \\qquad Pr(T = yes | LC = no, B = yes)*Pr(LC = no)*Pr(B = yes) + Pr(T = yes | LC = no, B = no)*Pr(LC = no)*Pr(B = no) $\n",
    "\n",
    "$ = (0.8 * 0.04 * 0.08) + (0.5 * 0.04 * 0.92) + (0.1 * 0.96 * 0.08) + (0.04 * 0.96 * 0.92) $\n",
    "\n",
    "$ =  0.064 $"
   ]
  },
  {
   "cell_type": "markdown",
   "metadata": {},
   "source": [
    "# Question 3: Logistic Regression (10 pts)\n",
    "In this question, we will explore the use of Logistic Regression. We use MAGIC Gamma Telescope Data Set. The dataset can be found at https://archive.ics.uci.edu/ml/datasets/MAGIC+Gamma+Telescope. It has 19020 instances with 11 attributes. The task is to classify the instance as signal (target = 1, positive) or background (target = 0, negative).\n",
    "The data have been split into training and test datasets. You can find them in the Q3&Q4 folder. Standardize the columns so they all have mean 0 and unit variance.\n",
    "\n",
    "(a) (6 pts) Fit a ridge logistic regression (i.e., logistic regression with a ridge penalty) model using scikit learn package. Use 10-fold cross-validation to choose the strength of the regularization ('C' parameter). Maintain all other parameters as default. Report the mean error rate (fraction of incorrect labels) on both the training and test sets."
   ]
  },
  {
   "cell_type": "code",
   "execution_count": 2,
   "metadata": {
    "collapsed": false
   },
   "outputs": [
    {
     "name": "stdout",
     "output_type": "stream",
     "text": [
      "Best mean accuracy from training set after 10-fold CV: 0.898 \n",
      "Best regularization parameter from training set after 10-fold CV: 2 \n",
      "Mean accuracy from test set: 0.218 \n"
     ]
    }
   ],
   "source": [
    "from sklearn import preprocessing\n",
    "from sklearn.linear_model import LogisticRegression\n",
    "from sklearn.model_selection import KFold\n",
    "import numpy as np\n",
    "\n",
    "X_train = np.genfromtxt('Q3&Q4/magic_train.csv', delimiter = \",\", usecols= (0, 1, 2, 3, 4, 5, 6, 7, 8, 9))\n",
    "y_train_char = np.genfromtxt('Q3&Q4/magic_train.csv', delimiter = \",\", dtype = None, usecols= (10))\n",
    "\n",
    "X_test = np.genfromtxt('Q3&Q4/magic_test.csv', delimiter = \",\", usecols= (0, 1, 2, 3, 4, 5, 6, 7, 8, 9))\n",
    "y_test_char = np.genfromtxt('Q3&Q4/magic_test.csv', delimiter = \",\", dtype = None, usecols= (10))\n",
    "\n",
    "# convert char class to numerics: g to 1, h to 0\n",
    "y_train = np.zeros(np.shape(y_train_char))\n",
    "y_test = np.zeros(np.shape(y_test_char))\n",
    "y_train[y_train_char == 'g'] = 1\n",
    "y_test[y_test_char == 'g'] = 1\n",
    "\n",
    "# standarize columns to mean 0 and variance one\n",
    "X_train = preprocessing.scale(X_train)\n",
    "X_test = preprocessing.scale(X_test)\n",
    "\n",
    "k_fold = KFold(10)\n",
    "BestScore = 0; # mean accuracy\n",
    "BestC = 0;\n",
    "\n",
    "for k, (train, test) in enumerate(k_fold.split(X_train, y_train)):\n",
    "    for i, C in enumerate((100, 2, 0.01)):\n",
    "        logreg = LogisticRegression(C=C, penalty='l2')\n",
    "        logreg.fit(X_train[train], y_train[train])\n",
    "        \n",
    "        # check if we have best score on training set, keep regularization C\n",
    "        if logreg.score(X_train[test], y_train[test]) > BestScore:\n",
    "            BestScore = logreg.score(X_train[test], y_train[test])\n",
    "            BestC = C\n",
    "\n",
    "print(\"Best mean accuracy from training set after 10-fold CV: {0:.3} \".format(BestScore))\n",
    "print(\"Best regularization parameter from training set after 10-fold CV: {0} \".format(BestC))\n",
    "\n",
    "\n",
    "number_incorrect = np.sum(logreg.predict(X_test) != y_test)\n",
    "error_rate = float(number_incorrect)/np.shape(y_test)[0]\n",
    "print(\"Mean accuracy from test set: {0:.3} \".format(error_rate))\n",
    "\n"
   ]
  },
  {
   "cell_type": "markdown",
   "metadata": {},
   "source": [
    "(b) (4 pts) Plot the receiver operating characteristic (ROC) curve on the test data. Report the area under the ROC curve (AUC).\n",
    "\n",
    "Hint: see http://scikit-learn.org/stable/auto_examples/model_selection/plot_roc.html  and \n",
    "\n",
    "http://scikit-learn.org/stable/modules/generated/sklearn.metrics.auc.html"
   ]
  },
  {
   "cell_type": "code",
   "execution_count": 3,
   "metadata": {
    "collapsed": false
   },
   "outputs": [
    {
     "data": {
      "image/png": "[encoded data removed]",
      "text/plain": [
       "<matplotlib.figure.Figure at 0x11075f990>"
      ]
     },
     "metadata": {},
     "output_type": "display_data"
    }
   ],
   "source": [
    "%matplotlib inline\n",
    "import matplotlib.pyplot as plt\n",
    "\n",
    "from sklearn import svm, datasets\n",
    "from sklearn.metrics import roc_curve, auc\n",
    "\n",
    "# Compute ROC curve and ROC area for each class\n",
    "y_score = logreg.decision_function(X_test)\n",
    "fpr, tpr, _ = roc_curve(y_test[:], y_score[:])\n",
    "roc_auc = auc(fpr, tpr)\n",
    "\n",
    "plt.figure()\n",
    "lw = 2\n",
    "plt.plot(fpr, tpr, color='darkorange', lw=lw, label='ROC curve (area = %0.2f)' % roc_auc)\n",
    "plt.plot([0, 1], [0, 1], color='navy', lw=lw, linestyle='--')\n",
    "plt.xlim([0.0, 1.0])\n",
    "plt.ylim([0.0, 1.05])\n",
    "plt.xlabel('False Positive Rate')\n",
    "plt.ylabel('True Positive Rate')\n",
    "plt.title('Receiver operating characteristic for MAGIC Test Data')\n",
    "plt.legend(loc=\"lower right\")\n",
    "plt.show()"
   ]
  },
  {
   "cell_type": "markdown",
   "metadata": {},
   "source": [
    "# Question 4: Support Vector Machines (14 pts)\n",
    "(a) (6 pts) Apply a linear SVM (kernel = 'linear'), using the scikit-SVM (http://scikit-learn.org/stable/modules/generated/sklearn.svm.SVC.html#sklearn.svm.SVC) on the standardized MAGIC Gamma Telescope Data Set. The data have been split into training and test datasets. You can find them in the Q3&Q4 folder. Standardize the columns so they all have mean 0 and unit variance. Specify how you chose the cost penalty ('C' parameter) for the model. Maintain all other parameters as default. \n",
    "\n",
    "Hint: see http://scikit-learn.org/stable/modules/generated/sklearn.grid_search.GridSearchCV.html will make 10-fold cross-validation easier. (GridSearchCV is one way to select parameters for a model. You may use it in your answer, or you may use other ways to solve the problem.)\n",
    "\n",
    "(b) (4 pts) Repeat (a) but using a Gaussian radial basis kernel (RBF kernel).\n",
    "\n",
    "(c) (4 pts) Summarize the comparative performance (mean error rates) of all the classifiers (Ridge Logistic Regression, SVM with linear kernel, SVM with RBF kernel) that you applied to the MAGIC Gamma Telescope Data Set in this homework in a table. What do you conclude? (be brief)"
   ]
  },
  {
   "cell_type": "code",
   "execution_count": null,
   "metadata": {
    "collapsed": false
   },
   "outputs": [],
   "source": [
    "from sklearn.grid_search import GridSearchCV\n",
    "from sklearn.svm import SVC\n",
    "\n",
    "# Set the parameters by cross-validation\n",
    "tuned_parameters = [{'kernel': ['linear'], 'C': [1, 10, 100, 1000]}]\n",
    "\n",
    "lin_svm = GridSearchCV(SVC(C=1), tuned_parameters, cv=10)\n",
    "lin_svm.fit(X_train, y_train)\n",
    "BestScore = lin_svm.score(X_test, y_test)\n",
    "print BestScore"
   ]
  },
  {
   "cell_type": "code",
   "execution_count": null,
   "metadata": {
    "collapsed": true
   },
   "outputs": [],
   "source": [
    "# Set the parameters by cross-validation\n",
    "tuned_parameters = [{'kernel': ['rbf'], 'C': [1, 10, 100, 1000]}]\n",
    "\n",
    "rbf_svm = GridSearchCV(SVC(C=1), tuned_parameters, cv=10)\n",
    "rbf_svm.fit(X_train, y_train)\n",
    "BestScore = rbf_svm.score(X_test, y_test)\n"
   ]
  },
  {
   "cell_type": "markdown",
   "metadata": {},
   "source": [
    "(c) (4 pts) Summarize the comparative performance (mean error rates) of all the classifiers (Ridge Logistic Regression, SVM with linear kernel, SVM with RBF kernel) that you applied to the MAGIC Gamma Telescope Data Set in this homework in a table. What do you conclude? (be brief)\n",
    "\n",
    "| Model | Score   |\n",
    "|---|---|\n",
    "|   Ridge Logistic Regression  | n/a|\n",
    "|   SVM with linear kernel  | n/a|\n",
    "|   SVM with RBF kernel  | n/a|\n"
   ]
  },
  {
   "cell_type": "markdown",
   "metadata": {},
   "source": [
    "# Question 5:\n",
    "(4 pts) What are two properties of Naïve Bayes that make it so suitable for parallel/distributed computation and for analyzing \"streaming\" data (e.g. each document is processed only once and need not be further stored or revisited)."
   ]
  },
  {
   "cell_type": "markdown",
   "metadata": {},
   "source": [
    "(a) Probabilities for Naïve Bayes can be easily altered due to its counting property. Tallying counts is easily distributed across systems since data streams can be counted as they are incoming.\n",
    "\n",
    "(b) "
   ]
  },
  {
   "cell_type": "markdown",
   "metadata": {},
   "source": [
    "# Question 6:\n",
    "(5 pts) Receiver operating characteristic (ROC) are created by changing a  decision threshold (to decide when to classify an input as belonging to the positive class) in a binary classifier. While some classifiers yield a natural choice for threshold  by comparing with the (estimated value of the) posterior probability of the positive class given the input, other classifiers do not. Select one classifier among decision trees, K nearest neighbors, or support vector machines, and describe how the ROC curve can be drawn for the selected classifier. "
   ]
  },
  {
   "cell_type": "code",
   "execution_count": null,
   "metadata": {
    "collapsed": true
   },
   "outputs": [],
   "source": []
  }
 ],
 "metadata": {
  "kernelspec": {
   "display_name": "Python 2",
   "language": "python",
   "name": "python2"
  },
  "language_info": {
   "codemirror_mode": {
    "name": "ipython",
    "version": 2
   },
   "file_extension": ".py",
   "mimetype": "text/x-python",
   "name": "python",
   "nbconvert_exporter": "python",
   "pygments_lexer": "ipython2",
   "version": "2.7.10"
  }
 },
 "nbformat": 4,
 "nbformat_minor": 2
}
