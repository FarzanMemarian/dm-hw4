{
 "cells": [
  {
   "cell_type": "markdown",
   "metadata": {},
   "source": [
    "# EE 380L: Data Mining\n",
    "## Alan Gee (ag64793), Farzan Memarian (fm6996)\n",
    "## Assignment 4\n",
    "\n",
    "Due: Mar 28 at 11:59 pm  \n",
    "Total points: 50\n",
    "\n",
    "You may work in pairs. Only one student per pair needs to submit the assignment on Canvas, but you should include names and UTEIDs for both students."
   ]
  },
  {
   "cell_type": "markdown",
   "metadata": {},
   "source": [
    "# Question 1: Decision Tree using Python (7 pts)\n",
    "In this problem, you will model the data using decision trees to perform a classification task. Load the BreastTissue.csv dataset in the Q1 folder. The dataset has been preprocessed. The description of the dataset can be found [here](https://archive.ics.uci.edu/ml/datasets/Breast+Tissue). Using the class tree.DecisionTreeClassifier (http://scikit-learn.org/stable/modules/classes.html#module-sklearn.tree), build two different trees with a maximum depth of two using the split criteria (i) Gini and (ii) Entropy. Use entire data to build trees. Plot the two trees. If your classifier object is called clf, use the following commands to save the generated tree as a '.dot' file that can be used to visualize the tree using Webgraphviz: http://www.webgraphviz.com/\n",
    "\n",
    "Hint: see  http://scikit-learn.org/stable/modules/generated/sklearn.tree.export_graphviz.html"
   ]
  },
  {
   "cell_type": "code",
   "execution_count": 15,
   "metadata": {
    "collapsed": false
   },
   "outputs": [],
   "source": [
    "from sklearn import tree\n",
    "from sklearn.externals.six import StringIO\n",
    "import numpy as np\n",
    "import pandas as pd\n",
    "\n",
    "filename = 'Q1/BreastTissue.csv'\n",
    "names = ['Case #','Class','I0','PA500','HFS','DA','Area','A/DA','Max IP','DR','P']\n",
    "data = pd.read_csv(filename, names=names)\n",
    "X = data.ix[1:,'I0':] # get all features Cols 3 to 11\n",
    "Y = data.ix[1:, 'Class']\n",
    "\n",
    "gini_clf = tree.DecisionTreeClassifier(criterion='gini', max_depth=2)\n",
    "gini_clf = gini_clf.fit(X.as_matrix(), Y.as_matrix())    \n",
    "\n",
    "with open(\"decision_tree_gini.dot\", 'w') as f:\n",
    "    f = tree.export_graphviz(gini_clf, out_file=f)\n",
    "\n",
    "en_clf = tree.DecisionTreeClassifier(criterion='entropy', max_depth=2)\n",
    "en_clf = en_clf.fit(X.as_matrix(), Y.as_matrix())    \n",
    "\n",
    "with open(\"decision_tree_entropy.dot\", 'w') as f:\n",
    "    f = tree.export_graphviz(en_clf, out_file=f)"
   ]
  },
  {
   "cell_type": "markdown",
   "metadata": {},
   "source": [
    "![title](gini.png)\n",
    "-----------------------\n",
    "![title](entropy.png)\n"
   ]
  },
  {
   "cell_type": "markdown",
   "metadata": {},
   "source": [
    "### Copy paste the contents of your '.dot' file into the text window on the website to visualize the trees. At which node(s) do they differ?"
   ]
  },
  {
   "cell_type": "markdown",
   "metadata": {},
   "source": [
    "The nodes differ at the root node. For example, in the entropy plot we split the data at x[0] while the gini criteria splits the node at x[8]. As a result the two trees split differently, but have almost similar leaves. Investigating the leaves, it appears that the entropy criteria produces one more split than the gini criteria. The leaves with values [0,1,0,15,15,16] and [0,20,0,0,1,2] in the entropy tree is actually an additional split of the gini node [0,21,0,15,16,18]. This reflects the high bias, high variance nature of decision trees. We get a different tree using different splitting criteria. "
   ]
  },
  {
   "cell_type": "markdown",
   "metadata": {},
   "source": [
    "# Question 2: Bayesian Networks (10 pts)\n",
    "In the Bayesian Network shown below, the nodes represent the following random variables: S stands for \"Smoking\", LC for \"Lung Cancer\", B for \"Bronchitis\", T for \"Tuberculosis\", D for \"Dyspnea\". The necessary conditional probabilities are provided alongside. "
   ]
  },
  {
   "cell_type": "code",
   "execution_count": 7,
   "metadata": {
    "collapsed": false,
    "scrolled": false
   },
   "outputs": [
    {
     "data": {
      "image/png": "[encoded data removed]",
      "text/plain": [
       "<IPython.core.display.Image object>"
      ]
     },
     "execution_count": 7,
     "metadata": {},
     "output_type": "execute_result"
    }
   ],
   "source": [
    "from IPython.display import Image\n",
    "Image(filename='BayesianNetworks.png')"
   ]
  },
  {
   "cell_type": "markdown",
   "metadata": {},
   "source": [
    "$$Pr(S = y) = 0.1$$\n",
    "$$Pr(LC = y | S = y) = 0.03$$\n",
    "$$Pr(LC = y | S = no) = 0.01$$\n",
    "$$Pr(B = y | S = y) = 0.06$$\n",
    "$$Pr(B = y | S = no) = 0.02$$\n",
    "$$Pr(T = y | LC = y, B = y) = 0.8$$\n",
    "$$Pr(T = y | LC = y, B = no) = 0.5$$\n",
    "$$Pr(T = y | LC = no, B = y) = 0.1$$\n",
    "$$Pr(T = y | LC = no, B = no) = 0.04$$\n",
    "$$Pr(D = y | T = y, B = y) = 0.9$$\n",
    "$$Pr(D = y | T = y, B = no) = 0.7$$\n",
    "$$Pr(D = y | T = no, B = y) = 0.65$$\n",
    "$$Pr(D = y | T = no, B = no) = 0.015$$"
   ]
  },
  {
   "cell_type": "markdown",
   "metadata": {},
   "source": [
    "Compute the following probabilities:\n",
    "\n",
    "### (a) (2 pts) $Pr(D = y)$"
   ]
  },
  {
   "cell_type": "markdown",
   "metadata": {},
   "source": [
    "\\begin{align}\n",
    "&Pr(D = y) = \\\\\n",
    "&Pr(D = y | T = y, B = y) Pr(T = y, B = y)  \\\\\n",
    "&+ Pr(D = y | T = y, B = no) Pr(T = y, B = no)  \\\\\n",
    "&+ Pr(D = y | T = no, B = y) Pr(T = no, B = y)  \\\\\n",
    "&+ Pr(D = y | T = no, B = no) Pr(T = no, B = no)\n",
    "\\end{align}\n",
    "\n",
    "\\begin{align}\n",
    "&Pr(T = y,B = y) = Pr(T = y | B = y) Pr(B = y) \\\\\n",
    "&Pr(T = y,B = no) = Pr(T = y | B = no) Pr(B = no) \\\\\n",
    "&Pr(T = no,B = y) = Pr(T = no | B = y) Pr(B = y) \\\\\n",
    "&Pr(T = no,B = no) = Pr(T = no | B = no) Pr(B = no)\n",
    "\\end{align}\n",
    "\n",
    "\\begin{align}\n",
    "&Pr(T = y | B = y) = pr(T=y|LC=y, B=y) Pr(LC=y) + pr(T=y|LC=n, B=y) Pr(LC=n) \\\\\n",
    "&Pr(T = y | B = n) = pr(T=y|LC=y, B=n) Pr(LC=y) + pr(T=y|LC=n, B=n) Pr(LC=n) \\\\\n",
    "&Pr(T = n | B = y) = pr(T=n|LC=y, B=y) Pr(LC=y) + pr(T=n|LC=n, B=y) Pr(LC=n) \\\\\n",
    "&Pr(T = n | B = n) = pr(T=n|LC=y, B=n) Pr(LC=y) + pr(T=n|LC=n, B=n) Pr(LC=n)\n",
    "\\end{align}\n",
    "\n",
    "\\begin{align}\n",
    "&pr(B=y) = pr(B=y|s=y) pr(s=y) + pr(B=y|s=n) pr(s=n) = 0.06*0.1+0.02*0.9 = 0.024 \\\\\n",
    "&pr(B=n) = 1 -pr(B=y) = 0.976 \\\\\n",
    "&pr(LC=y) = pr(LC=y|s=y) pr(s=y) + pr(LC=y|s=n) pr(s=n) = 0.03*0.1+0.01*0.9 = 0.012 \\\\\n",
    "&pr(LC=n) = 1 - pr(LC=y) = 0.988\n",
    "\\end{align}\n",
    "\n",
    "hence \n",
    "\n",
    "\\begin{align}\n",
    "&Pr(T = y | B = y) = 0.8*0.012+0.1*0.988=0.1084 \\\\\n",
    "&Pr(T = y | B = n) = 0.5*0.012+0.04*0.988=0.0455 \\\\\n",
    "&Pr(T = n | B = y) = 0.2*0.012+0.9*0.988=0.8916\\\\\n",
    "&Pr(T = n | B = n) = 0.5*0.012+0.96*0.988=0.954\n",
    "\\end{align}\n",
    "\n",
    "hence \n",
    "\\begin{align}\n",
    "&Pr(T = y , B = y) = 0.1084 * 0.024 = 0.0026016 \\\\\n",
    "&Pr(T = y , B = n) = 0.0455 * 0.976 = 0.0444\\\\\n",
    "&Pr(T = n , B = y) = 0.8916 * 0.024 = 0.0214\\\\\n",
    "&Pr(T = n , B = n) = 0.954 * 0.976 = 0.931\n",
    "\\end{align}\n",
    "hence\n",
    "\\begin{align}\n",
    "&Pr(D = y) = 0.0026016 *0.9 + 0.0444 *0.7+ 0.0214 * 0.65 + 0.931 * 0.015 = \\\\\n",
    "&\\Longrightarrow \\boxed{Pr(D = y) = 0.0613}\n",
    "\\end{align}"
   ]
  },
  {
   "cell_type": "markdown",
   "metadata": {},
   "source": [
    "### (b) (2 pts) $Pr(LC = no, B = y, D = y)$"
   ]
  },
  {
   "cell_type": "markdown",
   "metadata": {},
   "source": [
    "\\begin{align}\n",
    "&Pr(LC = no, B = y, D = y) = Pr(D=y |T, B=y) * Pr(Lc=n | S) * Pr(B=y | S)\n",
    "\\end{align}\n",
    "\n",
    "\\begin{align}\n",
    "&Pr(D=y | T, B=y) = Pr(D=y | T=y, B=y)Pr(T=y) + Pr(D=y | T=n, B=y)Pr(T=n) \n",
    "\\end{align}\n",
    "\n",
    "we need to calculate $Pr(T=y)$ and $Pr(Lc=n | S)$ and $ Pr(B=y | S)$ \n",
    "\n",
    "\\begin{align}\n",
    "&Pr(T=y) = \\\\\n",
    "&Pr(T = y | LC = y, B = y) * Pr(LC = y, B = y) \\\\\n",
    "&+Pr(T = y | LC = y, B = n) * Pr(LC = y, B = n) \\\\\n",
    "&+Pr(T = y | LC = n, B = y) * Pr(LC = n, B = y) \\\\\n",
    "&+Pr(T = y | LC = n, B = n) * Pr(LC = n, B = n) \\\\\n",
    "\\end{align}\n",
    "\n",
    "\\begin{align}\n",
    "&Pr(LC = y, B = y) = Pr(LC = y, B = y | S=y) Pr(S=y) +Pr(LC = y, B = y | S=n) Pr(S=n) \\\\\n",
    "&Pr(LC = y, B = n) = Pr(LC = y, B = n | S=y) Pr(S=y) +Pr(LC = y, B = n | S=n) Pr(S=n) \\\\ \n",
    "&Pr(LC = n, B = y) = Pr(LC = n, B = y | S=y) Pr(S=y) +Pr(LC = n, B = y | S=n) Pr(S=n) \\\\\n",
    "&Pr(LC = n, B = n) = Pr(LC = n, B = n | S=y) Pr(S=y) +Pr(LC = n, B = n | S=n) Pr(S=n) \\\\\n",
    "\\end{align}\n",
    "hence\n",
    "\\begin{align}\n",
    "&Pr(LC = y, B = y) = Pr(LC = y | S=y) Pr(B = y | S=y) Pr(S=y) + Pr(LC = y | S=n) Pr(B = y | S=n) Pr(S=n) =  0.03*0.06*0.1 + 0.01 * 0.02*0.9 = 0.00036 \\\\\n",
    "&Pr(LC = y, B = n) = Pr(LC = y | S=y) Pr(B = n | S=y) Pr(S=y) + Pr(LC = y | S=n) Pr(B = n | S=n) Pr(S=n) = \n",
    "0.03*0.94*0.1 + 0.01 * 0.98 *0.9 = 0.01164 \\\\\n",
    "&Pr(LC = n, B = y) = Pr(LC = n | S=y) Pr(B = y | S=y) Pr(S=y) + Pr(LC = n | S=n) Pr(B = y | S=n) Pr(S=n) = \n",
    "0.97 * 0.06 * 0.1 + 0.99 * 0.02 * 0.9 = 0.02364 \\\\\n",
    "&Pr(LC = n, B = n) = Pr(LC = n | S=y) Pr(B = n | S=y) Pr(S=y) + Pr(LC = n | S=n) Pr(B = n | S=n) Pr(S=n) =\n",
    "0.97 * 0.94 * 0.1 + 0.99 * 0.98 * 0.9 = 0.96436\n",
    "\\end{align}\n",
    "\n",
    "\\begin{align}\n",
    "&Pr(T=y) = \\\\\n",
    "&0.8 * 0.00036  + 0.5 * 0.01164  + 0.1 * 0.02364  + 0.04 * 0.96436 = 0.0470464\n",
    "\\end{align}\n",
    "\n",
    "hence we have\n",
    "\n",
    "\\begin{align}\n",
    "&Pr(D=y | T, B=y) = Pr(D=y | T=y, B=y)Pr(T=y) + Pr(D=y | T=n, B=y)Pr(T=n) = 0.9*0.0470464 + 0.65*(1-0.0470464) = 0.6617616\n",
    "\\end{align}\n",
    "\n",
    "from part a we have:\n",
    "\\begin{align}\n",
    "&Pr(Lc=n | S) = 0.988\n",
    "&Pr(B=y | S) = 0.024\n",
    "\\end{align}\n",
    "\n",
    "and finally\n",
    "\n",
    "\\begin{align}\n",
    "&Pr(LC = no, B = y, D = y) = Pr(D=y |T, B=y) * Pr(Lc=n | S) * Pr(B=y | S) = 0.6617616 * 0.988 * 0.024 = \\\\\n",
    "& \\Longrightarrow \\boxed{Pr(LC = no, B = y, D = y) =  0.0157}\n",
    "\\end{align}\n"
   ]
  },
  {
   "cell_type": "markdown",
   "metadata": {},
   "source": [
    "### (c) (3 pts) Given that a person has Bronchitis (B = y) and no Lung Cancer (LC = no), the probability he will has symptoms of Dyspnea (D = y).\n"
   ]
  },
  {
   "cell_type": "markdown",
   "metadata": {},
   "source": [
    "\\begin{align}\n",
    "&Pr(D=y|LC=n,B=y) =  \\\\\n",
    "&Pr(D=y,LC=n,B=y) / Pr(LC=n,B=y) \\\\\n",
    "& = 0.0157 / 0.02364 = \\boxed{0.66}\n",
    "\\end{align}\n",
    "the numerator and denominator were calculated in part b"
   ]
  },
  {
   "cell_type": "markdown",
   "metadata": {},
   "source": [
    "### (d) (3 pts) Given that a person is a smoker (S = y), the probability he will get infected with Tuberculosis (T = y)."
   ]
  },
  {
   "cell_type": "markdown",
   "metadata": {},
   "source": [
    "\\begin{align}\n",
    "&Pr(T=y|S=y) =  \\\\\n",
    "&Pr(T=y,S=y) / Pr(S=y)\n",
    "\\end{align}\n",
    "\n",
    "\\begin{align}\n",
    "&Pr(T=y,S=y)= \\\\\n",
    "&Pr(T=y,LC=y,B=y,S=y) + Pr(T=y,LC=y,B=n,S=y) + Pr(T=y,LC=n,B=y,S=y) + Pr(T=y,LC=n,B=n,S=y)\\\\\\\\\n",
    "&=Pr(T=y|LC=y,B=y,S=y) * Pr(LC=y,B=y,S=y)   \\\\\n",
    "&+Pr(T=y|LC=y,B=n,S=y) * Pr(LC=y,B=n,S=y)   \\\\\n",
    "&+Pr(T=y|LC=n,B=y,S=y) * Pr(LC=n,B=y,S=y)   \\\\\n",
    "&+Pr(T=y|LC=n,B=n,S=y) * Pr(LC=n,B=n,S=y)   \\\\\\\\\n",
    "&=Pr(T=y|LC=y,B=y) * Pr(LC=y|S=y) Pr(B=y|S=y) * Pr(S=y)   \\\\\n",
    "&+Pr(T=y|LC=y,B=n) * Pr(LC=y|S=y) Pr(B=n|S=y) * Pr(S=y)  \\\\\n",
    "&+Pr(T=y|LC=n,B=y) * Pr(LC=n|S=y) Pr(B=y|S=y) * Pr(S=y)  \\\\\n",
    "&+Pr(T=y|LC=n,B=n) * Pr(LC=n|S=y) Pr(B=n|S=y) * Pr(S=y) \\\\\n",
    "& = 0.8 * 0.03 * 0.06 * 0.1 + 0.5 * 0.03 * 0.94 * 0.01 + 0.1 * 0.97 * 0.06 * 0.1 + 0.04 * 0.97 * 0.94 * 0.1 = 0.0045 \n",
    "\\end{align}\n",
    "hence\n",
    "\\begin{align}\n",
    "\\boxed{Pr(T=y|S=y) = 0.0045  / 0.1 = 0.045}\n",
    "\\end{align}"
   ]
  },
  {
   "cell_type": "markdown",
   "metadata": {},
   "source": [
    "# Question 3: Logistic Regression (10 pts)\n",
    "In this question, we will explore the use of Logistic Regression. We use MAGIC Gamma Telescope Data Set. The dataset can be found at https://archive.ics.uci.edu/ml/datasets/MAGIC+Gamma+Telescope. It has 19020 instances with 11 attributes. The task is to classify the instance as signal (target = 1, positive) or background (target = 0, negative).\n",
    "The data have been split into training and test datasets. You can find them in the Q3&Q4 folder. Standardize the columns so they all have mean 0 and unit variance."
   ]
  },
  {
   "cell_type": "markdown",
   "metadata": {},
   "source": [
    "(a) (6 pts) Fit a ridge logistic regression (i.e., logistic regression with a ridge penalty) model using scikit learn package. Use 10-fold cross-validation to choose the strength of the regularization ('C' parameter). Maintain all other parameters as default. Report the mean error rate (fraction of incorrect labels) on both the training and test sets."
   ]
  },
  {
   "cell_type": "code",
   "execution_count": 27,
   "metadata": {
    "collapsed": false
   },
   "outputs": [
    {
     "name": "stdout",
     "output_type": "stream",
     "text": [
      "Best mean accuracy from training set after 10-fold CV: 0.899 \n",
      "Best regularization parameter from training set after 10-fold CV: 0.011 \n",
      "train mean error rate: 0.213 \n",
      "test mean error rate: 0.205 \n"
     ]
    }
   ],
   "source": [
    "from sklearn import preprocessing\n",
    "from sklearn.linear_model import LogisticRegression\n",
    "from sklearn.model_selection import KFold\n",
    "import numpy as np\n",
    "\n",
    "X_train = np.genfromtxt('Q3&Q4/magic_train.csv', delimiter = \",\", usecols= (0, 1, 2, 3, 4, 5, 6, 7, 8, 9))\n",
    "y_train_char = np.genfromtxt('Q3&Q4/magic_train.csv', delimiter = \",\", dtype = None, usecols= (10))\n",
    "\n",
    "X_test = np.genfromtxt('Q3&Q4/magic_test.csv', delimiter = \",\", usecols= (0, 1, 2, 3, 4, 5, 6, 7, 8, 9))\n",
    "y_test_char = np.genfromtxt('Q3&Q4/magic_test.csv', delimiter = \",\", dtype = None, usecols= (10))\n",
    "\n",
    "# convert char class to numerics: g to 1, h to 0\n",
    "y_train = np.zeros(np.shape(y_train_char))\n",
    "y_test = np.zeros(np.shape(y_test_char))\n",
    "y_train[y_train_char == 'g'] = 1\n",
    "y_test[y_test_char == 'g'] = 1\n",
    "\n",
    "# standarize columns to mean 0 and variance one\n",
    "X_train = preprocessing.scale(X_train)\n",
    "X_test = preprocessing.scale(X_test)\n",
    "\n",
    "k_fold = KFold(10)\n",
    "BestScore = 0; # mean accuracy\n",
    "BestC = 0;\n",
    "\n",
    "for k, (train, test) in enumerate(k_fold.split(X_train, y_train)):\n",
    "    for C in np.linspace(0.001,0.1,100):\n",
    "        logreg = LogisticRegression(C=C, penalty='l2')\n",
    "        logreg.fit(X_train[train], y_train[train])\n",
    "        \n",
    "        # check if we have best score on training set, keep regularization C\n",
    "        if logreg.score(X_train[test], y_train[test]) > BestScore:\n",
    "            BestScore = logreg.score(X_train[test], y_train[test])\n",
    "            BestC = C\n",
    "\n",
    "print(\"Best mean accuracy from training set after 10-fold CV: {0:.3} \".format(BestScore))\n",
    "print(\"Best regularization parameter from training set after 10-fold CV: {0} \".format(BestC))\n",
    "\n",
    "logreg = LogisticRegression(C=BestC, penalty='l2')\n",
    "logreg.fit(X_train, y_train)\n",
    "test_score = logreg.score(X_test, y_test)\n",
    "training_score = logreg.score(X_train, y_train)\n",
    "print(\"train mean error rate: {0:.3} \".format(1 - training_score))\n",
    "print(\"test mean error rate: {0:.3} \".format(1 - test_score))\n",
    "\n"
   ]
  },
  {
   "cell_type": "markdown",
   "metadata": {},
   "source": [
    "(b) (4 pts) Plot the receiver operating characteristic (ROC) curve on the test data. Report the area under the ROC curve (AUC).\n",
    "\n",
    "Hint: see http://scikit-learn.org/stable/auto_examples/model_selection/plot_roc.html  and \n",
    "\n",
    "http://scikit-learn.org/stable/modules/generated/sklearn.metrics.auc.html"
   ]
  },
  {
   "cell_type": "code",
   "execution_count": 13,
   "metadata": {
    "collapsed": false
   },
   "outputs": [
    {
     "data": {
      "image/png": "[encoded data removed]",
      "text/plain": [
       "<matplotlib.figure.Figure at 0x7efbc46166d0>"
      ]
     },
     "metadata": {},
     "output_type": "display_data"
    }
   ],
   "source": [
    "%matplotlib inline\n",
    "import matplotlib.pyplot as plt\n",
    "\n",
    "from sklearn import svm, datasets\n",
    "from sklearn.metrics import roc_curve, auc\n",
    "\n",
    "# Compute ROC curve and ROC area for each class\n",
    "y_score = logreg.decision_function(X_test)\n",
    "fpr, tpr, _ = roc_curve(y_test, y_score)\n",
    "roc_auc = auc(fpr, tpr)\n",
    "\n",
    "plt.figure()\n",
    "lw = 2\n",
    "plt.plot(fpr, tpr, color='darkorange', lw=lw, label='ROC curve (area = %0.2f)' % roc_auc)\n",
    "plt.plot([0, 1], [0, 1], color='navy', lw=lw, linestyle='--')\n",
    "plt.xlim([0.0, 1.0])\n",
    "plt.ylim([0.0, 1.05])\n",
    "plt.xlabel('False Positive Rate')\n",
    "plt.ylabel('True Positive Rate')\n",
    "plt.title('Receiver operating characteristic for MAGIC Test Data')\n",
    "plt.legend(loc=\"lower right\")\n",
    "plt.show()"
   ]
  },
  {
   "cell_type": "markdown",
   "metadata": {},
   "source": [
    "# Question 4: Support Vector Machines (14 pts)\n",
    "(a) (6 pts) Apply a linear SVM (kernel = 'linear'), using the scikit-SVM (http://scikit-learn.org/stable/modules/generated/sklearn.svm.SVC.html#sklearn.svm.SVC) on the standardized MAGIC Gamma Telescope Data Set. The data have been split into training and test datasets. You can find them in the Q3&Q4 folder. Standardize the columns so they all have mean 0 and unit variance. Specify how you chose the cost penalty ('C' parameter) for the model. Maintain all other parameters as default. \n",
    "\n",
    "Hint: see http://scikit-learn.org/stable/modules/generated/sklearn.grid_search.GridSearchCV.html will make 10-fold cross-validation easier. (GridSearchCV is one way to select parameters for a model. You may use it in your answer, or you may use other ways to solve the problem.)\n",
    "\n",
    "\n"
   ]
  },
  {
   "cell_type": "code",
   "execution_count": 14,
   "metadata": {
    "collapsed": false
   },
   "outputs": [
    {
     "name": "stdout",
     "output_type": "stream",
     "text": [
      "0.798499651082\n"
     ]
    }
   ],
   "source": [
    "from sklearn.grid_search import GridSearchCV\n",
    "from sklearn.svm import SVC\n",
    "\n",
    "# Set the parameters by cross-validation\n",
    "tuned_parameters = [{'kernel': ['linear'], 'C': 10**np.linspace(2,-2,10)*0.5}]\n",
    "\n",
    "lin_svm = GridSearchCV(SVC(C=1), tuned_parameters, cv=10)\n",
    "lin_svm.fit(X_train, y_train)"
   ]
  },
  {
   "cell_type": "code",
   "execution_count": 41,
   "metadata": {
    "collapsed": false
   },
   "outputs": [
    {
     "name": "stdout",
     "output_type": "stream",
     "text": [
      "Best mean error rate for training set:  0.212522576761\n",
      "Best mean error rate for test set:  0.201500348918\n",
      "SVC(C=2.3207944168063896, cache_size=200, class_weight=None, coef0=0.0,\n",
      "  decision_function_shape=None, degree=3, gamma='auto', kernel='linear',\n",
      "  max_iter=-1, probability=False, random_state=None, shrinking=True,\n",
      "  tol=0.001, verbose=False)\n"
     ]
    }
   ],
   "source": [
    "BestScoreLinTest = lin_svm.score(X_test, y_test)\n",
    "BestScoreLinTrain = lin_svm.score(X_train, y_train)\n",
    "print \"Best mean error rate for training set: \", 1- BestScoreLinTrain\n",
    "print \"Best mean error rate for test set: \", 1 -BestScoreLinTest\n",
    "print lin_svm.best_estimator_"
   ]
  },
  {
   "cell_type": "markdown",
   "metadata": {},
   "source": [
    "#### The way we found the optimal C was by feeding the GridSearchCV by an appropriate range of C values in log scale. The function performs 10 fold cross validation and picks the best C in terms of the best average accuracy given by the SVC function. "
   ]
  },
  {
   "cell_type": "markdown",
   "metadata": {},
   "source": [
    "(b) (4 pts) Repeat (a) but using a Gaussian radial basis kernel (RBF kernel).\n"
   ]
  },
  {
   "cell_type": "code",
   "execution_count": 17,
   "metadata": {
    "collapsed": false
   },
   "outputs": [
    {
     "name": "stdout",
     "output_type": "stream",
     "text": [
      "0.870551290998\n"
     ]
    }
   ],
   "source": [
    "# Set the parameters by cross-validation\n",
    "tuned_parameters = [{'kernel': ['rbf'], 'C': 10**np.linspace(2,-2,10)*0.5}]\n",
    "\n",
    "rbf_svm = GridSearchCV(SVC(C=1), tuned_parameters, cv=10)\n",
    "rbf_svm.fit(X_train, y_train)\n",
    "\n"
   ]
  },
  {
   "cell_type": "code",
   "execution_count": 42,
   "metadata": {
    "collapsed": false
   },
   "outputs": [
    {
     "name": "stdout",
     "output_type": "stream",
     "text": [
      "Best mean error rate for training set:  0.0992624924744\n",
      "Best mean error rate for test set:  0.129448709002\n",
      "SVC(C=50.0, cache_size=200, class_weight=None, coef0=0.0,\n",
      "  decision_function_shape=None, degree=3, gamma='auto', kernel='rbf',\n",
      "  max_iter=-1, probability=False, random_state=None, shrinking=True,\n",
      "  tol=0.001, verbose=False)\n"
     ]
    }
   ],
   "source": [
    "BestScoreRBFTrain = rbf_svm.score(X_train, y_train)\n",
    "BestScoreRBFTest = rbf_svm.score(X_test, y_test)\n",
    "print \"Best mean error rate for training set: \",1- BestScoreRBFTrain\n",
    "print \"Best mean error rate for test set: \", 1-BestScoreRBFTest\n",
    "print rbf_svm.best_estimator_"
   ]
  },
  {
   "cell_type": "markdown",
   "metadata": {},
   "source": [
    "(c) (4 pts) Summarize the comparative performance (mean error rates on both the training and test sets) of all the classifiers (Ridge Logistic Regression, SVM with linear kernel, SVM with RBF kernel) that you applied to the MAGIC Gamma Telescope Data Set in this homework in a table. What do you conclude? (be brief)"
   ]
  },
  {
   "cell_type": "markdown",
   "metadata": {
    "collapsed": true
   },
   "source": [
    "| Model | MER train  | MER test|\n",
    "|---|---|---|\n",
    "|   Ridge Logistic Regression  | 0.213  |0.205 |\n",
    "|   SVM with linear kernel  | 0.213 |0.2015 |\n",
    "|   SVM with RBF kernel  | 0.099| 0.129|\n",
    "\n",
    "#### Ridge logistic regression and SVM with linear kernel gave very similar results which makes sense as they are both linear classifiers. SVM with RBF performs considerably better because the data is more amenable to linear separation in higher dimensions whereas in the original dimension it is not."
   ]
  },
  {
   "cell_type": "markdown",
   "metadata": {},
   "source": [
    "# Question 5:\n",
    "(4 pts) What are two properties of Naïve Bayes that make it so suitable for parallel/distributed computation and for analyzing \"streaming\" data (e.g. each document is processed only once and need not be further stored or revisited)."
   ]
  },
  {
   "cell_type": "markdown",
   "metadata": {},
   "source": [
    "#### (a) Naïve Bayes makes the assumption that the class conditional distributions can be independently estimated from the other classes. Because of this independence, each probability class can be computed separately on different processors.\n",
    "\n",
    "#### (b) The probabilities for the class conditional distributions are calculated through the counting property. That is, we can simply count the number of times each event $x_{i}$ is observed in a particular instance. This lends itself to streaming the data as probabilities can be updated by updating the event counts. \n"
   ]
  },
  {
   "cell_type": "markdown",
   "metadata": {},
   "source": [
    "# Question 6:\n",
    "(5 pts) Receiver operating characteristic (ROC) are created by changing a  decision threshold (to decide when to classify an input as belonging to the positive class) in a binary classifier. While some classifiers yield a natural choice for threshold  by comparing with the (estimated value of the) posterior probability of the positive class given the input, other classifiers do not. Select one classifier among decision trees, K nearest neighbors, or support vector machines, and describe how the ROC curve can be drawn for the selected classifier. "
   ]
  },
  {
   "cell_type": "markdown",
   "metadata": {
    "collapsed": true
   },
   "source": [
    "#### We pick SVM for this problem. The choice of the cost penalty, C, will change the optimization problem that SVM solves, i.e. it changes the objective function. The higher the values of C, the higher the cost of a point being on the wrong side of the margins, hence the margin will be smaller. This change affects the optimal solution yielding separating hyperplane and margins. The different solutions obtained from varying C affect TPR and FPR. So to get the ROC curve, we start with a very low C and increment it. For each C we solve the SVM and get the hyperplane that separate the data and margins and calculate the TPR and FPR. "
   ]
  },
  {
   "cell_type": "code",
   "execution_count": null,
   "metadata": {
    "collapsed": false
   },
   "outputs": [],
   "source": []
  }
 ],
 "metadata": {
  "kernelspec": {
   "display_name": "Python 2",
   "language": "python",
   "name": "python2"
  },
  "language_info": {
   "codemirror_mode": {
    "name": "ipython",
    "version": 2
   },
   "file_extension": ".py",
   "mimetype": "text/x-python",
   "name": "python",
   "nbconvert_exporter": "python",
   "pygments_lexer": "ipython2",
   "version": "2.7.12"
  }
 },
 "nbformat": 4,
 "nbformat_minor": 2
}
